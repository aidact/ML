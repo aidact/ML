{
 "cells": [
  {
   "cell_type": "code",
   "execution_count": 3,
   "metadata": {},
   "outputs": [
    {
     "data": {
      "text/plain": [
       "3"
      ]
     },
     "execution_count": 3,
     "metadata": {},
     "output_type": "execute_result"
    }
   ],
   "source": [
    "#1\n",
    "x = [[1,0,1],[2,0,2],[3,0,3],[4,4,4]]\n",
    "\n",
    "n = 3\n",
    "m = 4\n",
    "l = 0\n",
    "\n",
    "if(m>n):\n",
    "    l = n\n",
    "else:\n",
    "    l = m\n",
    "cnt=0\n",
    "p = 1\n",
    "\n",
    "for i in range (l):\n",
    "     if(x[i][i] != 0):\n",
    "        p *= x[i][i]\n",
    "p"
   ]
  },
  {
   "cell_type": "code",
   "execution_count": 4,
   "metadata": {},
   "outputs": [
    {
     "data": {
      "text/plain": [
       "3"
      ]
     },
     "execution_count": 4,
     "metadata": {},
     "output_type": "execute_result"
    }
   ],
   "source": [
    "import numpy as np\n",
    "\n",
    "x = np.array([[1, 0, 1], [2, 0, 2], [3, 0, 3], [4, 4, 4]])\n",
    "\n",
    "diag = x.diagonal()\n",
    "zeros = np.argwhere(diag == 0)\n",
    "\n",
    "nozeros = np.delete(diag, zeros)\n",
    "\n",
    "np.prod(nozeros)"
   ]
  },
  {
   "cell_type": "code",
   "execution_count": 5,
   "metadata": {},
   "outputs": [
    {
     "name": "stdout",
     "output_type": "stream",
     "text": [
      "Yes\n"
     ]
    }
   ],
   "source": [
    "#2\n",
    "x = [1, 2, 2, 4]\n",
    "y = [4, 2, 1, 2]\n",
    "\n",
    "x.sort()\n",
    "y.sort()\n",
    "\n",
    "ok = 0\n",
    "\n",
    "for i in range(1,len(x)):\n",
    "    if(x[i] == y[i]):\n",
    "        ok +=1\n",
    "    else: \n",
    "        ok=0\n",
    "        break\n",
    "if(ok != 0):\n",
    "    print(\"Yes\")\n",
    "else:\n",
    "    print(\"No\")\n"
   ]
  },
  {
   "cell_type": "code",
   "execution_count": 6,
   "metadata": {},
   "outputs": [
    {
     "name": "stdout",
     "output_type": "stream",
     "text": [
      "Yes\n"
     ]
    }
   ],
   "source": [
    "x = np.array([1, 2, 2, 4])\n",
    "y = np.array([4, 2, 1, 2])\n",
    "\n",
    "ok = False\n",
    "x, countX = np.unique(x, return_counts = True)\n",
    "y, countY = np.unique(y, return_counts = True)\n",
    "\n",
    "if (np.all(x == y) & np.all(countX == countY)):\n",
    "    ok = True\n",
    "#ok\n",
    "\n",
    "if(ok):\n",
    "    print(\"Yes\")\n",
    "else:\n",
    "    print(\"No\")"
   ]
  },
  {
   "cell_type": "code",
   "execution_count": 7,
   "metadata": {},
   "outputs": [
    {
     "data": {
      "text/plain": [
       "5"
      ]
     },
     "execution_count": 7,
     "metadata": {},
     "output_type": "execute_result"
    }
   ],
   "source": [
    "#3\n",
    "arr = [6, 2, 0, 3, 0, 0, 5, 7, 0]\n",
    "\n",
    "maxi = -1000000\n",
    "    \n",
    "for i in range(1,len(arr)):\n",
    "    if(arr[i]>maxi & arr[i-1] == 0):\n",
    "        maxi = arr[i]\n",
    "            \n",
    "maxi"
   ]
  },
  {
   "cell_type": "code",
   "execution_count": 8,
   "metadata": {},
   "outputs": [
    {
     "data": {
      "text/plain": [
       "5"
      ]
     },
     "execution_count": 8,
     "metadata": {},
     "output_type": "execute_result"
    }
   ],
   "source": [
    "x = np.array([6, 2, 0, 3, 0, 0, 5, 7, 0])\n",
    "#maxi = -100000\n",
    "    \n",
    "#y = np.where(x == 0)\n",
    "\n",
    "maxi = x[1:][(x == 0)[:-1]]\n",
    "maxi.max()"
   ]
  },
  {
   "cell_type": "code",
   "execution_count": 9,
   "metadata": {},
   "outputs": [
    {
     "data": {
      "text/plain": [
       "([2, 3, 5], [3, 3, 1])"
      ]
     },
     "execution_count": 9,
     "metadata": {},
     "output_type": "execute_result"
    }
   ],
   "source": [
    "#5\n",
    "arr = [2, 2, 2, 3, 3, 3, 5]\n",
    "\n",
    "arr1 = []\n",
    "arr2 = []\n",
    "cnt = 1\n",
    "ind = 0\n",
    "for i in range (0, len(arr)):\n",
    "    if(arr[i-1] == arr[i]):\n",
    "        cnt += 1\n",
    "    else:\n",
    "        arr2.append(arr[i])\n",
    "        arr1.append(cnt)\n",
    "        cnt = 1\n",
    "        \n",
    "arr3 = list(reversed(arr1))\n",
    "arr2, arr3"
   ]
  },
  {
   "cell_type": "code",
   "execution_count": 10,
   "metadata": {},
   "outputs": [
    {
     "data": {
      "text/plain": [
       "(array([2, 3, 5]), array([3, 3, 1]))"
      ]
     },
     "execution_count": 10,
     "metadata": {},
     "output_type": "execute_result"
    }
   ],
   "source": [
    "import numpy as np\n",
    "\n",
    "x = np.array([2, 2, 2, 3, 3, 3, 5])\n",
    "\n",
    "x, occurency = np.unique( x, return_counts = True)\n",
    "\n",
    "x, occurency"
   ]
  },
  {
   "cell_type": "code",
   "execution_count": 16,
   "metadata": {},
   "outputs": [
    {
     "data": {
      "text/plain": [
       "11.789826122551595"
      ]
     },
     "execution_count": 16,
     "metadata": {},
     "output_type": "execute_result"
    }
   ],
   "source": [
    "#6\n",
    "import math\n",
    "import time\n",
    "\n",
    "        \n",
    "x = [[3,6],[7,0]]\n",
    "y = [[2,1],[0,8]]\n",
    "        \n",
    "#mx, my\n",
    "start = time.time()\n",
    "\n",
    "sumi = 0\n",
    "for i in range(0, 2):\n",
    "    for j in range(0, 2):\n",
    "        sumi += (x[i][j] - y[i][j])*(x[i][j] - y[i][j])\n",
    "dist = math.sqrt(sumi)\n",
    "\n",
    "end = time.time()\n",
    "t1 = end - start\n",
    "dist"
   ]
  },
  {
   "cell_type": "code",
   "execution_count": 17,
   "metadata": {},
   "outputs": [
    {
     "data": {
      "text/plain": [
       "11.789826122551595"
      ]
     },
     "execution_count": 17,
     "metadata": {},
     "output_type": "execute_result"
    }
   ],
   "source": [
    "\n",
    "\n",
    "X = np.array([[3, 6, 7, 0]])\n",
    "Y = np.array([[2, 1, 0, 8]])\n",
    "\n",
    "# x = np.matrix[[3, 6], [7, 0]])\n",
    "# y = np.matrix([[2, 1], [0, 8]])\n",
    "start1 = time.time()\n",
    "np.sqrt(np.sum((X - Y)*(X - Y)))\n",
    "\n",
    "end1 = time.time()\n",
    "t2 = end1 - start1\n",
    "np.sqrt(np.sum((X - Y)*(X - Y)))"
   ]
  },
  {
   "cell_type": "code",
   "execution_count": 18,
   "metadata": {},
   "outputs": [
    {
     "name": "stderr",
     "output_type": "stream",
     "text": [
      "/anaconda3/lib/python3.6/site-packages/matplotlib/figure.py:459: UserWarning: matplotlib is currently using a non-GUI backend, so cannot show the figure\n",
      "  \"matplotlib is currently using a non-GUI backend, \"\n"
     ]
    },
    {
     "data": {
      "image/png": "[encoded data removed]",
      "text/plain": [
       "<Figure size 936x360 with 1 Axes>"
      ]
     },
     "metadata": {},
     "output_type": "display_data"
    }
   ],
   "source": [
    "#7\n",
    "import matplotlib.pyplot as plt\n",
    "import numpy as np\n",
    "\n",
    "%matplotlib inline\n",
    "\n",
    "\n",
    "# def test1():\n",
    "#     x = [[3,6],[7,0]]\n",
    "#     y = [[2,1],[0,8]]\n",
    "#     sumi = 0\n",
    "#     for i in range(0, 2):\n",
    "#         for j in range(0, 2):\n",
    "#             sumi += (x[i][j] - y[i][j])*(x[i][j] - y[i][j])\n",
    "#     dist = math.sqrt(sumi)\n",
    "# def test2():\n",
    "#     X = np.array([[3, 6, 7, 0]])\n",
    "#     Y = np.array([[2, 1, 0, 8]])\n",
    "#     np.sqrt(np.sum((X - Y)*(X - Y)))\n",
    "\n",
    "#     import timeit\n",
    "#     print(timeit.timeit(\"test()\", setup=\"from __main__ import test\"))\n",
    "    \n",
    "# time1 = timeit.timeit(test1)\n",
    "# time2 = timeit.timeit(test2)\n",
    "\n",
    "f, ax2 = plt.subplots(1, 1, figsize=(13, 5))\n",
    "#ax2 = ax2.T.flatten()\n",
    "ax2.plot(X, t1, label=u\"Невекторизованная\")\n",
    "ax2.plot(X, t2, label=u\"Векторизованная\")\n",
    "\n",
    "ax2.set_title(u\"Проверка скорости реализации\")\n",
    "ax2.set_xlabel(u\"Длина массива\")\n",
    "ax2.set_ylabel(u\"Время (с)\")\n",
    "ax2.grid()\n",
    "ax2.legend()\n",
    "\n",
    "f.show()              "
   ]
  },
  {
   "cell_type": "code",
   "execution_count": null,
   "metadata": {},
   "outputs": [],
   "source": []
  }
 ],
 "metadata": {
  "kernelspec": {
   "display_name": "Python 3",
   "language": "python",
   "name": "python3"
  },
  "language_info": {
   "codemirror_mode": {
    "name": "ipython",
    "version": 3
   },
   "file_extension": ".py",
   "mimetype": "text/x-python",
   "name": "python",
   "nbconvert_exporter": "python",
   "pygments_lexer": "ipython3",
   "version": "3.6.5"
  }
 },
 "nbformat": 4,
 "nbformat_minor": 2
}
