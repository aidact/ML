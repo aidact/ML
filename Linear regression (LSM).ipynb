{
 "cells": [
  {
   "cell_type": "code",
   "execution_count": 28,
   "metadata": {},
   "outputs": [],
   "source": [
    "import numpy as np\n",
    "import math\n",
    "import matplotlib.pyplot as plt"
   ]
  },
  {
   "cell_type": "code",
   "execution_count": 3,
   "metadata": {},
   "outputs": [],
   "source": [
    "x = np.array([6,7,8,9,10])\n",
    "y = np.array([80,60,70,40,0])"
   ]
  },
  {
   "cell_type": "code",
   "execution_count": 16,
   "metadata": {},
   "outputs": [
    {
     "name": "stdout",
     "output_type": "stream",
     "text": [
      "8.0 50.0 364 66\n"
     ]
    }
   ],
   "source": [
    "xbar = x.sum()/x.size\n",
    "ybar = y.sum()/y.size\n",
    "\n",
    "xy = 0\n",
    "for i in range(x.size):\n",
    "    xy = xy+ x[i]*y[i]\n",
    "xybar = int(xy/x.size)\n",
    "\n",
    "xsq = 0\n",
    "ysq = 0\n",
    "for i in range(x.size):\n",
    "    xsq = xsq + x[i]*x[i]\n",
    "    ysq = ysq + y[i]*y[i]\n",
    "xsqbar = int(xsq/x.size)\n",
    "ysqbar = int(ysq/y.size)\n",
    "\n",
    "print(xbar, ybar, xybar, xsqbar)"
   ]
  },
  {
   "cell_type": "code",
   "execution_count": 20,
   "metadata": {},
   "outputs": [
    {
     "name": "stdout",
     "output_type": "stream",
     "text": [
      "-18.0 194.0\n",
      "[86. 68. 50. 32. 14.]\n"
     ]
    }
   ],
   "source": [
    "a = (xybar - xbar*ybar)/(xsqbar - xbar*xbar)\n",
    "b = ybar - a*xbar\n",
    "print(a, b)\n",
    "\n",
    "#equation of the line\n",
    "ytilda = a*x + b\n",
    "print(ytilda)"
   ]
  },
  {
   "cell_type": "code",
   "execution_count": 23,
   "metadata": {},
   "outputs": [
    {
     "name": "stdout",
     "output_type": "stream",
     "text": [
      "-0.9\n"
     ]
    }
   ],
   "source": [
    "#correlation coefficient\n",
    "vy = ysqbar - ybar*ybar\n",
    "\n",
    "r = (xybar - xbar*ybar)/math.sqrt((xsqbar - xbar*xbar)*vy)\n",
    "print(r)"
   ]
  },
  {
   "cell_type": "code",
   "execution_count": 26,
   "metadata": {},
   "outputs": [
    {
     "name": "stdout",
     "output_type": "stream",
     "text": [
      "0.81\n"
     ]
    }
   ],
   "source": [
    "#coefficient of determination\n",
    "ssr = 0\n",
    "sst = 0\n",
    "for i in range(x.size):\n",
    "    ssr = ssr + (ytilda[i]-ybar)*(ytilda[i]-ybar)\n",
    "    sst = sst + (y[i] - ybar)*(y[i] - ybar)\n",
    "\n",
    "#print(ssr, sst)\n",
    "Rsq = ssr/sst\n",
    "print(Rsq)"
   ]
  },
  {
   "cell_type": "code",
   "execution_count": 39,
   "metadata": {},
   "outputs": [
    {
     "data": {
      "image/png": "[encoded data removed]",
      "text/plain": [
       "<Figure size 432x288 with 1 Axes>"
      ]
     },
     "metadata": {},
     "output_type": "display_data"
    }
   ],
   "source": [
    "#plt.plot(x, y, ytilda)\n",
    "#plt.plot(ytilda)\n",
    "plt.plot( x, y, 'ro')\n",
    "\n",
    "plt.show()"
   ]
  },
  {
   "cell_type": "code",
   "execution_count": null,
   "metadata": {},
   "outputs": [],
   "source": []
  }
 ],
 "metadata": {
  "kernelspec": {
   "display_name": "Python 3",
   "language": "python",
   "name": "python3"
  },
  "language_info": {
   "codemirror_mode": {
    "name": "ipython",
    "version": 3
   },
   "file_extension": ".py",
   "mimetype": "text/x-python",
   "name": "python",
   "nbconvert_exporter": "python",
   "pygments_lexer": "ipython3",
   "version": "3.6.5"
  }
 },
 "nbformat": 4,
 "nbformat_minor": 2
}
